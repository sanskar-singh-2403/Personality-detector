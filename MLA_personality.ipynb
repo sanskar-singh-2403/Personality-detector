{
  "nbformat": 4,
  "nbformat_minor": 0,
  "metadata": {
    "colab": {
      "provenance": []
    },
    "kernelspec": {
      "name": "python3",
      "display_name": "Python 3"
    },
    "language_info": {
      "name": "python"
    }
  },
  "cells": [
    {
      "cell_type": "code",
      "execution_count": null,
      "metadata": {
        "id": "5VraQn-Rto49"
      },
      "outputs": [],
      "source": [
        "import pandas as pd\n",
        "import requests\n",
        "import numpy as np"
      ]
    },
    {
      "cell_type": "code",
      "source": [
        "response=requests.get(\"https://newsdata.io/api/1/news?apikey=pub_191729a7504a7dfeda92f5d160ab32d8bc375&language=en\")"
      ],
      "metadata": {
        "id": "LGOhtbZztwGD"
      },
      "execution_count": null,
      "outputs": []
    },
    {
      "cell_type": "code",
      "source": [
        "df=pd.DataFrame(response.json()['results'])"
      ],
      "metadata": {
        "id": "0i80BtEHtyW6"
      },
      "execution_count": null,
      "outputs": []
    },
    {
      "cell_type": "code",
      "source": [
        "df"
      ],
      "metadata": {
        "colab": {
          "base_uri": "https://localhost:8080/",
          "height": 1000
        },
        "id": "yRvs9rJct07d",
        "outputId": "4ef86630-0069-480b-b0d6-dbc6b3cb0f08"
      },
      "execution_count": null,
      "outputs": [
        {
          "output_type": "execute_result",
          "data": {
            "text/plain": [
              "                                               title  \\\n",
              "0                 Omuthiya hosts business breakfasts   \n",
              "1       Malta achieves 90% internet penetration rate   \n",
              "2  Man, 25, seriously injured by tiles lifted int...   \n",
              "3  How to access a single WhatsApp account on mul...   \n",
              "4        Swapo women sign agreement on sex education   \n",
              "5  Henties Bay offers cheap land to stimulate dev...   \n",
              "6  Price of sugar in Bulgaria rose 36% in a year ...   \n",
              "7  Don’t Forget Lessons Of Ramadan, MUSWEN Urges ...   \n",
              "8                  21% of crashes pedestrian-related   \n",
              "9            Football great Pele is now an adjective   \n",
              "\n",
              "                                                link  \\\n",
              "0  https://namibian.com.na/omuthiya-hosts-busines...   \n",
              "1  https://timesofmalta.com/articles/view/malta-a...   \n",
              "2  https://timesofmalta.com/articles/view/man-25-...   \n",
              "3  https://en.dailypakistan.com.pk/27-Apr-2023/ho...   \n",
              "4  https://namibian.com.na/swapo-women-sign-agree...   \n",
              "5  https://namibian.com.na/henties-bay-offers-che...   \n",
              "6  https://sofiaglobe.com/2023/04/28/price-of-sug...   \n",
              "7  https://independent.ng/dont-forget-lessons-of-...   \n",
              "8  https://namibian.com.na/21-of-crashes-pedestri...   \n",
              "9  https://arynews.tv/football-great-pele-is-now-...   \n",
              "\n",
              "                               keywords                  creator video_url  \\\n",
              "0                      [National, News]        [Hileni Nembwaya]      None   \n",
              "1                        [Gaming, Tech]              [Sponsored]      None   \n",
              "2  [Accident, Police, Kerċem, National]         [Times of Malta]      None   \n",
              "3                          [Technology]               [Web Desk]      None   \n",
              "4                      [National, News]         [Sophie Tendane]      None   \n",
              "5                      [National, News]           [Adam Hartman]      None   \n",
              "6                            [Business]  [The Sofia Globe staff]      None   \n",
              "7                             [Al-Fahm]       [Rasheed Abubakar]      None   \n",
              "8                      [National, News]          [Feni Hiveluah]      None   \n",
              "9                     [Lifestyle, Pele]                    [AFP]      None   \n",
              "\n",
              "                                         description  \\\n",
              "0  The Omuthiya Town Council on Saturday launched...   \n",
              "1  Here’s a breakdown of the latest stats, along ...   \n",
              "2         He was rushed to the Gozo General Hospital   \n",
              "3  WhatsApp is improving its multi-device offerin...   \n",
              "4  The Swapo Party Women’s Council (SPWC) and the...   \n",
              "5  The Henties Bay Town Council has made cheap la...   \n",
              "6  The price of sugar in Bulgaria was 36 per cent...   \n",
              "7   The Muslim Ummah of South West Nigeria (MUSWE...   \n",
              "8  The University of Namibia is developing a rese...   \n",
              "9  ‘Pele’, arguably the best footballer in histor...   \n",
              "\n",
              "                                             content              pubDate  \\\n",
              "0  This follows businesses being hard hit by the ...  2023-04-28 09:35:10   \n",
              "1  As a select few countries around the world hit...  2023-04-28 09:22:00   \n",
              "2  A man was seriously injured on Friday when a b...  2023-04-28 09:20:00   \n",
              "3  WhatsApp is improving its multi-device offerin...  2023-04-28 09:19:19   \n",
              "4  SPWC secretary Fransina Kahungu said many time...  2023-04-28 09:19:05   \n",
              "5  The 102 residential plots the council sold for...  2023-04-28 09:11:34   \n",
              "6  The price of sugar in Bulgaria was 36 per cent...  2023-04-28 09:09:34   \n",
              "7  The Muslim Ummah of South West Nigeria (MUSWEN...  2023-04-28 09:09:17   \n",
              "8  According to the World Health Organisation Glo...  2023-04-28 09:08:13   \n",
              "9  On Wednesday, the word ‘pele’ was added to the...  2023-04-28 09:06:57   \n",
              "\n",
              "                                           image_url        source_id  \\\n",
              "0                                               None         namibian   \n",
              "1  https://cdn-attachments.timesofmalta.com/0ae46...     timesofmalta   \n",
              "2  https://cdn-attachments.timesofmalta.com/299c2...     timesofmalta   \n",
              "3  https://en.dailypakistan.com.pk/digital_images...  dailypakistanen   \n",
              "4                                               None         namibian   \n",
              "5                                               None         namibian   \n",
              "6                                               None       sofiaglobe   \n",
              "7                                               None    independentng   \n",
              "8                                               None         namibian   \n",
              "9                                               None          arynews   \n",
              "\n",
              "       category     country language  \n",
              "0         [top]   [Namibia]  english  \n",
              "1         [top]     [Malta]  english  \n",
              "2         [top]     [Malta]  english  \n",
              "3  [technology]  [pakistan]  english  \n",
              "4         [top]   [Namibia]  english  \n",
              "5         [top]   [Namibia]  english  \n",
              "6    [business]  [bulgaria]  english  \n",
              "7         [top]   [nigeria]  english  \n",
              "8         [top]   [Namibia]  english  \n",
              "9         [top]  [pakistan]  english  "
            ],
            "text/html": [
              "\n",
              "  <div id=\"df-bdc02f5c-1bfc-474b-b940-3d8fa7006124\">\n",
              "    <div class=\"colab-df-container\">\n",
              "      <div>\n",
              "<style scoped>\n",
              "    .dataframe tbody tr th:only-of-type {\n",
              "        vertical-align: middle;\n",
              "    }\n",
              "\n",
              "    .dataframe tbody tr th {\n",
              "        vertical-align: top;\n",
              "    }\n",
              "\n",
              "    .dataframe thead th {\n",
              "        text-align: right;\n",
              "    }\n",
              "</style>\n",
              "<table border=\"1\" class=\"dataframe\">\n",
              "  <thead>\n",
              "    <tr style=\"text-align: right;\">\n",
              "      <th></th>\n",
              "      <th>title</th>\n",
              "      <th>link</th>\n",
              "      <th>keywords</th>\n",
              "      <th>creator</th>\n",
              "      <th>video_url</th>\n",
              "      <th>description</th>\n",
              "      <th>content</th>\n",
              "      <th>pubDate</th>\n",
              "      <th>image_url</th>\n",
              "      <th>source_id</th>\n",
              "      <th>category</th>\n",
              "      <th>country</th>\n",
              "      <th>language</th>\n",
              "    </tr>\n",
              "  </thead>\n",
              "  <tbody>\n",
              "    <tr>\n",
              "      <th>0</th>\n",
              "      <td>Omuthiya hosts business breakfasts</td>\n",
              "      <td>https://namibian.com.na/omuthiya-hosts-busines...</td>\n",
              "      <td>[National, News]</td>\n",
              "      <td>[Hileni Nembwaya]</td>\n",
              "      <td>None</td>\n",
              "      <td>The Omuthiya Town Council on Saturday launched...</td>\n",
              "      <td>This follows businesses being hard hit by the ...</td>\n",
              "      <td>2023-04-28 09:35:10</td>\n",
              "      <td>None</td>\n",
              "      <td>namibian</td>\n",
              "      <td>[top]</td>\n",
              "      <td>[Namibia]</td>\n",
              "      <td>english</td>\n",
              "    </tr>\n",
              "    <tr>\n",
              "      <th>1</th>\n",
              "      <td>Malta achieves 90% internet penetration rate</td>\n",
              "      <td>https://timesofmalta.com/articles/view/malta-a...</td>\n",
              "      <td>[Gaming, Tech]</td>\n",
              "      <td>[Sponsored]</td>\n",
              "      <td>None</td>\n",
              "      <td>Here’s a breakdown of the latest stats, along ...</td>\n",
              "      <td>As a select few countries around the world hit...</td>\n",
              "      <td>2023-04-28 09:22:00</td>\n",
              "      <td>https://cdn-attachments.timesofmalta.com/0ae46...</td>\n",
              "      <td>timesofmalta</td>\n",
              "      <td>[top]</td>\n",
              "      <td>[Malta]</td>\n",
              "      <td>english</td>\n",
              "    </tr>\n",
              "    <tr>\n",
              "      <th>2</th>\n",
              "      <td>Man, 25, seriously injured by tiles lifted int...</td>\n",
              "      <td>https://timesofmalta.com/articles/view/man-25-...</td>\n",
              "      <td>[Accident, Police, Kerċem, National]</td>\n",
              "      <td>[Times of Malta]</td>\n",
              "      <td>None</td>\n",
              "      <td>He was rushed to the Gozo General Hospital</td>\n",
              "      <td>A man was seriously injured on Friday when a b...</td>\n",
              "      <td>2023-04-28 09:20:00</td>\n",
              "      <td>https://cdn-attachments.timesofmalta.com/299c2...</td>\n",
              "      <td>timesofmalta</td>\n",
              "      <td>[top]</td>\n",
              "      <td>[Malta]</td>\n",
              "      <td>english</td>\n",
              "    </tr>\n",
              "    <tr>\n",
              "      <th>3</th>\n",
              "      <td>How to access a single WhatsApp account on mul...</td>\n",
              "      <td>https://en.dailypakistan.com.pk/27-Apr-2023/ho...</td>\n",
              "      <td>[Technology]</td>\n",
              "      <td>[Web Desk]</td>\n",
              "      <td>None</td>\n",
              "      <td>WhatsApp is improving its multi-device offerin...</td>\n",
              "      <td>WhatsApp is improving its multi-device offerin...</td>\n",
              "      <td>2023-04-28 09:19:19</td>\n",
              "      <td>https://en.dailypakistan.com.pk/digital_images...</td>\n",
              "      <td>dailypakistanen</td>\n",
              "      <td>[technology]</td>\n",
              "      <td>[pakistan]</td>\n",
              "      <td>english</td>\n",
              "    </tr>\n",
              "    <tr>\n",
              "      <th>4</th>\n",
              "      <td>Swapo women sign agreement on sex education</td>\n",
              "      <td>https://namibian.com.na/swapo-women-sign-agree...</td>\n",
              "      <td>[National, News]</td>\n",
              "      <td>[Sophie Tendane]</td>\n",
              "      <td>None</td>\n",
              "      <td>The Swapo Party Women’s Council (SPWC) and the...</td>\n",
              "      <td>SPWC secretary Fransina Kahungu said many time...</td>\n",
              "      <td>2023-04-28 09:19:05</td>\n",
              "      <td>None</td>\n",
              "      <td>namibian</td>\n",
              "      <td>[top]</td>\n",
              "      <td>[Namibia]</td>\n",
              "      <td>english</td>\n",
              "    </tr>\n",
              "    <tr>\n",
              "      <th>5</th>\n",
              "      <td>Henties Bay offers cheap land to stimulate dev...</td>\n",
              "      <td>https://namibian.com.na/henties-bay-offers-che...</td>\n",
              "      <td>[National, News]</td>\n",
              "      <td>[Adam Hartman]</td>\n",
              "      <td>None</td>\n",
              "      <td>The Henties Bay Town Council has made cheap la...</td>\n",
              "      <td>The 102 residential plots the council sold for...</td>\n",
              "      <td>2023-04-28 09:11:34</td>\n",
              "      <td>None</td>\n",
              "      <td>namibian</td>\n",
              "      <td>[top]</td>\n",
              "      <td>[Namibia]</td>\n",
              "      <td>english</td>\n",
              "    </tr>\n",
              "    <tr>\n",
              "      <th>6</th>\n",
              "      <td>Price of sugar in Bulgaria rose 36% in a year ...</td>\n",
              "      <td>https://sofiaglobe.com/2023/04/28/price-of-sug...</td>\n",
              "      <td>[Business]</td>\n",
              "      <td>[The Sofia Globe staff]</td>\n",
              "      <td>None</td>\n",
              "      <td>The price of sugar in Bulgaria was 36 per cent...</td>\n",
              "      <td>The price of sugar in Bulgaria was 36 per cent...</td>\n",
              "      <td>2023-04-28 09:09:34</td>\n",
              "      <td>None</td>\n",
              "      <td>sofiaglobe</td>\n",
              "      <td>[business]</td>\n",
              "      <td>[bulgaria]</td>\n",
              "      <td>english</td>\n",
              "    </tr>\n",
              "    <tr>\n",
              "      <th>7</th>\n",
              "      <td>Don’t Forget Lessons Of Ramadan, MUSWEN Urges ...</td>\n",
              "      <td>https://independent.ng/dont-forget-lessons-of-...</td>\n",
              "      <td>[Al-Fahm]</td>\n",
              "      <td>[Rasheed Abubakar]</td>\n",
              "      <td>None</td>\n",
              "      <td>The Muslim Ummah of South West Nigeria (MUSWE...</td>\n",
              "      <td>The Muslim Ummah of South West Nigeria (MUSWEN...</td>\n",
              "      <td>2023-04-28 09:09:17</td>\n",
              "      <td>None</td>\n",
              "      <td>independentng</td>\n",
              "      <td>[top]</td>\n",
              "      <td>[nigeria]</td>\n",
              "      <td>english</td>\n",
              "    </tr>\n",
              "    <tr>\n",
              "      <th>8</th>\n",
              "      <td>21% of crashes pedestrian-related</td>\n",
              "      <td>https://namibian.com.na/21-of-crashes-pedestri...</td>\n",
              "      <td>[National, News]</td>\n",
              "      <td>[Feni Hiveluah]</td>\n",
              "      <td>None</td>\n",
              "      <td>The University of Namibia is developing a rese...</td>\n",
              "      <td>According to the World Health Organisation Glo...</td>\n",
              "      <td>2023-04-28 09:08:13</td>\n",
              "      <td>None</td>\n",
              "      <td>namibian</td>\n",
              "      <td>[top]</td>\n",
              "      <td>[Namibia]</td>\n",
              "      <td>english</td>\n",
              "    </tr>\n",
              "    <tr>\n",
              "      <th>9</th>\n",
              "      <td>Football great Pele is now an adjective</td>\n",
              "      <td>https://arynews.tv/football-great-pele-is-now-...</td>\n",
              "      <td>[Lifestyle, Pele]</td>\n",
              "      <td>[AFP]</td>\n",
              "      <td>None</td>\n",
              "      <td>‘Pele’, arguably the best footballer in histor...</td>\n",
              "      <td>On Wednesday, the word ‘pele’ was added to the...</td>\n",
              "      <td>2023-04-28 09:06:57</td>\n",
              "      <td>None</td>\n",
              "      <td>arynews</td>\n",
              "      <td>[top]</td>\n",
              "      <td>[pakistan]</td>\n",
              "      <td>english</td>\n",
              "    </tr>\n",
              "  </tbody>\n",
              "</table>\n",
              "</div>\n",
              "      <button class=\"colab-df-convert\" onclick=\"convertToInteractive('df-bdc02f5c-1bfc-474b-b940-3d8fa7006124')\"\n",
              "              title=\"Convert this dataframe to an interactive table.\"\n",
              "              style=\"display:none;\">\n",
              "        \n",
              "  <svg xmlns=\"http://www.w3.org/2000/svg\" height=\"24px\"viewBox=\"0 0 24 24\"\n",
              "       width=\"24px\">\n",
              "    <path d=\"M0 0h24v24H0V0z\" fill=\"none\"/>\n",
              "    <path d=\"M18.56 5.44l.94 2.06.94-2.06 2.06-.94-2.06-.94-.94-2.06-.94 2.06-2.06.94zm-11 1L8.5 8.5l.94-2.06 2.06-.94-2.06-.94L8.5 2.5l-.94 2.06-2.06.94zm10 10l.94 2.06.94-2.06 2.06-.94-2.06-.94-.94-2.06-.94 2.06-2.06.94z\"/><path d=\"M17.41 7.96l-1.37-1.37c-.4-.4-.92-.59-1.43-.59-.52 0-1.04.2-1.43.59L10.3 9.45l-7.72 7.72c-.78.78-.78 2.05 0 2.83L4 21.41c.39.39.9.59 1.41.59.51 0 1.02-.2 1.41-.59l7.78-7.78 2.81-2.81c.8-.78.8-2.07 0-2.86zM5.41 20L4 18.59l7.72-7.72 1.47 1.35L5.41 20z\"/>\n",
              "  </svg>\n",
              "      </button>\n",
              "      \n",
              "  <style>\n",
              "    .colab-df-container {\n",
              "      display:flex;\n",
              "      flex-wrap:wrap;\n",
              "      gap: 12px;\n",
              "    }\n",
              "\n",
              "    .colab-df-convert {\n",
              "      background-color: #E8F0FE;\n",
              "      border: none;\n",
              "      border-radius: 50%;\n",
              "      cursor: pointer;\n",
              "      display: none;\n",
              "      fill: #1967D2;\n",
              "      height: 32px;\n",
              "      padding: 0 0 0 0;\n",
              "      width: 32px;\n",
              "    }\n",
              "\n",
              "    .colab-df-convert:hover {\n",
              "      background-color: #E2EBFA;\n",
              "      box-shadow: 0px 1px 2px rgba(60, 64, 67, 0.3), 0px 1px 3px 1px rgba(60, 64, 67, 0.15);\n",
              "      fill: #174EA6;\n",
              "    }\n",
              "\n",
              "    [theme=dark] .colab-df-convert {\n",
              "      background-color: #3B4455;\n",
              "      fill: #D2E3FC;\n",
              "    }\n",
              "\n",
              "    [theme=dark] .colab-df-convert:hover {\n",
              "      background-color: #434B5C;\n",
              "      box-shadow: 0px 1px 3px 1px rgba(0, 0, 0, 0.15);\n",
              "      filter: drop-shadow(0px 1px 2px rgba(0, 0, 0, 0.3));\n",
              "      fill: #FFFFFF;\n",
              "    }\n",
              "  </style>\n",
              "\n",
              "      <script>\n",
              "        const buttonEl =\n",
              "          document.querySelector('#df-bdc02f5c-1bfc-474b-b940-3d8fa7006124 button.colab-df-convert');\n",
              "        buttonEl.style.display =\n",
              "          google.colab.kernel.accessAllowed ? 'block' : 'none';\n",
              "\n",
              "        async function convertToInteractive(key) {\n",
              "          const element = document.querySelector('#df-bdc02f5c-1bfc-474b-b940-3d8fa7006124');\n",
              "          const dataTable =\n",
              "            await google.colab.kernel.invokeFunction('convertToInteractive',\n",
              "                                                     [key], {});\n",
              "          if (!dataTable) return;\n",
              "\n",
              "          const docLinkHtml = 'Like what you see? Visit the ' +\n",
              "            '<a target=\"_blank\" href=https://colab.research.google.com/notebooks/data_table.ipynb>data table notebook</a>'\n",
              "            + ' to learn more about interactive tables.';\n",
              "          element.innerHTML = '';\n",
              "          dataTable['output_type'] = 'display_data';\n",
              "          await google.colab.output.renderOutput(dataTable, element);\n",
              "          const docLink = document.createElement('div');\n",
              "          docLink.innerHTML = docLinkHtml;\n",
              "          element.appendChild(docLink);\n",
              "        }\n",
              "      </script>\n",
              "    </div>\n",
              "  </div>\n",
              "  "
            ]
          },
          "metadata": {},
          "execution_count": 151
        }
      ]
    },
    {
      "cell_type": "code",
      "source": [
        "df.isnull().sum()"
      ],
      "metadata": {
        "colab": {
          "base_uri": "https://localhost:8080/"
        },
        "id": "O5GNx39Lt2u0",
        "outputId": "43b1ef38-9fda-40fa-e6db-ccf47e790295"
      },
      "execution_count": null,
      "outputs": [
        {
          "output_type": "execute_result",
          "data": {
            "text/plain": [
              "title           0\n",
              "link            0\n",
              "keywords        0\n",
              "creator         0\n",
              "video_url      10\n",
              "description     0\n",
              "content         0\n",
              "pubDate         0\n",
              "image_url       7\n",
              "source_id       0\n",
              "category        0\n",
              "country         0\n",
              "language        0\n",
              "dtype: int64"
            ]
          },
          "metadata": {},
          "execution_count": 152
        }
      ]
    },
    {
      "cell_type": "code",
      "source": [
        "df.info()"
      ],
      "metadata": {
        "colab": {
          "base_uri": "https://localhost:8080/"
        },
        "id": "7RgN1WQrt7Ky",
        "outputId": "02dabf3f-c1a0-4d0d-c31a-1372f6ec4385"
      },
      "execution_count": null,
      "outputs": [
        {
          "output_type": "stream",
          "name": "stdout",
          "text": [
            "<class 'pandas.core.frame.DataFrame'>\n",
            "RangeIndex: 10 entries, 0 to 9\n",
            "Data columns (total 13 columns):\n",
            " #   Column       Non-Null Count  Dtype \n",
            "---  ------       --------------  ----- \n",
            " 0   title        10 non-null     object\n",
            " 1   link         10 non-null     object\n",
            " 2   keywords     10 non-null     object\n",
            " 3   creator      10 non-null     object\n",
            " 4   video_url    0 non-null      object\n",
            " 5   description  10 non-null     object\n",
            " 6   content      10 non-null     object\n",
            " 7   pubDate      10 non-null     object\n",
            " 8   image_url    3 non-null      object\n",
            " 9   source_id    10 non-null     object\n",
            " 10  category     10 non-null     object\n",
            " 11  country      10 non-null     object\n",
            " 12  language     10 non-null     object\n",
            "dtypes: object(13)\n",
            "memory usage: 1.1+ KB\n"
          ]
        }
      ]
    },
    {
      "cell_type": "code",
      "source": [
        "df.shape"
      ],
      "metadata": {
        "colab": {
          "base_uri": "https://localhost:8080/"
        },
        "id": "8LnWXjkCuAj7",
        "outputId": "9050daec-e66f-49b1-9656-f89f417b4729"
      },
      "execution_count": null,
      "outputs": [
        {
          "output_type": "execute_result",
          "data": {
            "text/plain": [
              "(10, 13)"
            ]
          },
          "metadata": {},
          "execution_count": 154
        }
      ]
    },
    {
      "cell_type": "code",
      "source": [
        "df[['title','description', 'content']]"
      ],
      "metadata": {
        "colab": {
          "base_uri": "https://localhost:8080/",
          "height": 363
        },
        "id": "i1xLWs1puBV7",
        "outputId": "eb8999c8-3085-4050-adaa-33c3bc2f443c"
      },
      "execution_count": null,
      "outputs": [
        {
          "output_type": "execute_result",
          "data": {
            "text/plain": [
              "                                               title  \\\n",
              "0                 Omuthiya hosts business breakfasts   \n",
              "1       Malta achieves 90% internet penetration rate   \n",
              "2  Man, 25, seriously injured by tiles lifted int...   \n",
              "3  How to access a single WhatsApp account on mul...   \n",
              "4        Swapo women sign agreement on sex education   \n",
              "5  Henties Bay offers cheap land to stimulate dev...   \n",
              "6  Price of sugar in Bulgaria rose 36% in a year ...   \n",
              "7  Don’t Forget Lessons Of Ramadan, MUSWEN Urges ...   \n",
              "8                  21% of crashes pedestrian-related   \n",
              "9            Football great Pele is now an adjective   \n",
              "\n",
              "                                         description  \\\n",
              "0  The Omuthiya Town Council on Saturday launched...   \n",
              "1  Here’s a breakdown of the latest stats, along ...   \n",
              "2         He was rushed to the Gozo General Hospital   \n",
              "3  WhatsApp is improving its multi-device offerin...   \n",
              "4  The Swapo Party Women’s Council (SPWC) and the...   \n",
              "5  The Henties Bay Town Council has made cheap la...   \n",
              "6  The price of sugar in Bulgaria was 36 per cent...   \n",
              "7   The Muslim Ummah of South West Nigeria (MUSWE...   \n",
              "8  The University of Namibia is developing a rese...   \n",
              "9  ‘Pele’, arguably the best footballer in histor...   \n",
              "\n",
              "                                             content  \n",
              "0  This follows businesses being hard hit by the ...  \n",
              "1  As a select few countries around the world hit...  \n",
              "2  A man was seriously injured on Friday when a b...  \n",
              "3  WhatsApp is improving its multi-device offerin...  \n",
              "4  SPWC secretary Fransina Kahungu said many time...  \n",
              "5  The 102 residential plots the council sold for...  \n",
              "6  The price of sugar in Bulgaria was 36 per cent...  \n",
              "7  The Muslim Ummah of South West Nigeria (MUSWEN...  \n",
              "8  According to the World Health Organisation Glo...  \n",
              "9  On Wednesday, the word ‘pele’ was added to the...  "
            ],
            "text/html": [
              "\n",
              "  <div id=\"df-190a478d-6639-4b82-a5af-2f46b4a50d0d\">\n",
              "    <div class=\"colab-df-container\">\n",
              "      <div>\n",
              "<style scoped>\n",
              "    .dataframe tbody tr th:only-of-type {\n",
              "        vertical-align: middle;\n",
              "    }\n",
              "\n",
              "    .dataframe tbody tr th {\n",
              "        vertical-align: top;\n",
              "    }\n",
              "\n",
              "    .dataframe thead th {\n",
              "        text-align: right;\n",
              "    }\n",
              "</style>\n",
              "<table border=\"1\" class=\"dataframe\">\n",
              "  <thead>\n",
              "    <tr style=\"text-align: right;\">\n",
              "      <th></th>\n",
              "      <th>title</th>\n",
              "      <th>description</th>\n",
              "      <th>content</th>\n",
              "    </tr>\n",
              "  </thead>\n",
              "  <tbody>\n",
              "    <tr>\n",
              "      <th>0</th>\n",
              "      <td>Omuthiya hosts business breakfasts</td>\n",
              "      <td>The Omuthiya Town Council on Saturday launched...</td>\n",
              "      <td>This follows businesses being hard hit by the ...</td>\n",
              "    </tr>\n",
              "    <tr>\n",
              "      <th>1</th>\n",
              "      <td>Malta achieves 90% internet penetration rate</td>\n",
              "      <td>Here’s a breakdown of the latest stats, along ...</td>\n",
              "      <td>As a select few countries around the world hit...</td>\n",
              "    </tr>\n",
              "    <tr>\n",
              "      <th>2</th>\n",
              "      <td>Man, 25, seriously injured by tiles lifted int...</td>\n",
              "      <td>He was rushed to the Gozo General Hospital</td>\n",
              "      <td>A man was seriously injured on Friday when a b...</td>\n",
              "    </tr>\n",
              "    <tr>\n",
              "      <th>3</th>\n",
              "      <td>How to access a single WhatsApp account on mul...</td>\n",
              "      <td>WhatsApp is improving its multi-device offerin...</td>\n",
              "      <td>WhatsApp is improving its multi-device offerin...</td>\n",
              "    </tr>\n",
              "    <tr>\n",
              "      <th>4</th>\n",
              "      <td>Swapo women sign agreement on sex education</td>\n",
              "      <td>The Swapo Party Women’s Council (SPWC) and the...</td>\n",
              "      <td>SPWC secretary Fransina Kahungu said many time...</td>\n",
              "    </tr>\n",
              "    <tr>\n",
              "      <th>5</th>\n",
              "      <td>Henties Bay offers cheap land to stimulate dev...</td>\n",
              "      <td>The Henties Bay Town Council has made cheap la...</td>\n",
              "      <td>The 102 residential plots the council sold for...</td>\n",
              "    </tr>\n",
              "    <tr>\n",
              "      <th>6</th>\n",
              "      <td>Price of sugar in Bulgaria rose 36% in a year ...</td>\n",
              "      <td>The price of sugar in Bulgaria was 36 per cent...</td>\n",
              "      <td>The price of sugar in Bulgaria was 36 per cent...</td>\n",
              "    </tr>\n",
              "    <tr>\n",
              "      <th>7</th>\n",
              "      <td>Don’t Forget Lessons Of Ramadan, MUSWEN Urges ...</td>\n",
              "      <td>The Muslim Ummah of South West Nigeria (MUSWE...</td>\n",
              "      <td>The Muslim Ummah of South West Nigeria (MUSWEN...</td>\n",
              "    </tr>\n",
              "    <tr>\n",
              "      <th>8</th>\n",
              "      <td>21% of crashes pedestrian-related</td>\n",
              "      <td>The University of Namibia is developing a rese...</td>\n",
              "      <td>According to the World Health Organisation Glo...</td>\n",
              "    </tr>\n",
              "    <tr>\n",
              "      <th>9</th>\n",
              "      <td>Football great Pele is now an adjective</td>\n",
              "      <td>‘Pele’, arguably the best footballer in histor...</td>\n",
              "      <td>On Wednesday, the word ‘pele’ was added to the...</td>\n",
              "    </tr>\n",
              "  </tbody>\n",
              "</table>\n",
              "</div>\n",
              "      <button class=\"colab-df-convert\" onclick=\"convertToInteractive('df-190a478d-6639-4b82-a5af-2f46b4a50d0d')\"\n",
              "              title=\"Convert this dataframe to an interactive table.\"\n",
              "              style=\"display:none;\">\n",
              "        \n",
              "  <svg xmlns=\"http://www.w3.org/2000/svg\" height=\"24px\"viewBox=\"0 0 24 24\"\n",
              "       width=\"24px\">\n",
              "    <path d=\"M0 0h24v24H0V0z\" fill=\"none\"/>\n",
              "    <path d=\"M18.56 5.44l.94 2.06.94-2.06 2.06-.94-2.06-.94-.94-2.06-.94 2.06-2.06.94zm-11 1L8.5 8.5l.94-2.06 2.06-.94-2.06-.94L8.5 2.5l-.94 2.06-2.06.94zm10 10l.94 2.06.94-2.06 2.06-.94-2.06-.94-.94-2.06-.94 2.06-2.06.94z\"/><path d=\"M17.41 7.96l-1.37-1.37c-.4-.4-.92-.59-1.43-.59-.52 0-1.04.2-1.43.59L10.3 9.45l-7.72 7.72c-.78.78-.78 2.05 0 2.83L4 21.41c.39.39.9.59 1.41.59.51 0 1.02-.2 1.41-.59l7.78-7.78 2.81-2.81c.8-.78.8-2.07 0-2.86zM5.41 20L4 18.59l7.72-7.72 1.47 1.35L5.41 20z\"/>\n",
              "  </svg>\n",
              "      </button>\n",
              "      \n",
              "  <style>\n",
              "    .colab-df-container {\n",
              "      display:flex;\n",
              "      flex-wrap:wrap;\n",
              "      gap: 12px;\n",
              "    }\n",
              "\n",
              "    .colab-df-convert {\n",
              "      background-color: #E8F0FE;\n",
              "      border: none;\n",
              "      border-radius: 50%;\n",
              "      cursor: pointer;\n",
              "      display: none;\n",
              "      fill: #1967D2;\n",
              "      height: 32px;\n",
              "      padding: 0 0 0 0;\n",
              "      width: 32px;\n",
              "    }\n",
              "\n",
              "    .colab-df-convert:hover {\n",
              "      background-color: #E2EBFA;\n",
              "      box-shadow: 0px 1px 2px rgba(60, 64, 67, 0.3), 0px 1px 3px 1px rgba(60, 64, 67, 0.15);\n",
              "      fill: #174EA6;\n",
              "    }\n",
              "\n",
              "    [theme=dark] .colab-df-convert {\n",
              "      background-color: #3B4455;\n",
              "      fill: #D2E3FC;\n",
              "    }\n",
              "\n",
              "    [theme=dark] .colab-df-convert:hover {\n",
              "      background-color: #434B5C;\n",
              "      box-shadow: 0px 1px 3px 1px rgba(0, 0, 0, 0.15);\n",
              "      filter: drop-shadow(0px 1px 2px rgba(0, 0, 0, 0.3));\n",
              "      fill: #FFFFFF;\n",
              "    }\n",
              "  </style>\n",
              "\n",
              "      <script>\n",
              "        const buttonEl =\n",
              "          document.querySelector('#df-190a478d-6639-4b82-a5af-2f46b4a50d0d button.colab-df-convert');\n",
              "        buttonEl.style.display =\n",
              "          google.colab.kernel.accessAllowed ? 'block' : 'none';\n",
              "\n",
              "        async function convertToInteractive(key) {\n",
              "          const element = document.querySelector('#df-190a478d-6639-4b82-a5af-2f46b4a50d0d');\n",
              "          const dataTable =\n",
              "            await google.colab.kernel.invokeFunction('convertToInteractive',\n",
              "                                                     [key], {});\n",
              "          if (!dataTable) return;\n",
              "\n",
              "          const docLinkHtml = 'Like what you see? Visit the ' +\n",
              "            '<a target=\"_blank\" href=https://colab.research.google.com/notebooks/data_table.ipynb>data table notebook</a>'\n",
              "            + ' to learn more about interactive tables.';\n",
              "          element.innerHTML = '';\n",
              "          dataTable['output_type'] = 'display_data';\n",
              "          await google.colab.output.renderOutput(dataTable, element);\n",
              "          const docLink = document.createElement('div');\n",
              "          docLink.innerHTML = docLinkHtml;\n",
              "          element.appendChild(docLink);\n",
              "        }\n",
              "      </script>\n",
              "    </div>\n",
              "  </div>\n",
              "  "
            ]
          },
          "metadata": {},
          "execution_count": 155
        }
      ]
    },
    {
      "cell_type": "code",
      "source": [
        "df=df[['title','description', 'content']]"
      ],
      "metadata": {
        "id": "dnK9Q0EouEgL"
      },
      "execution_count": null,
      "outputs": []
    },
    {
      "cell_type": "code",
      "source": [
        "df.iloc[0].values"
      ],
      "metadata": {
        "colab": {
          "base_uri": "https://localhost:8080/"
        },
        "id": "-MsKTCBpuIWD",
        "outputId": "9568dbaa-01cc-4c18-fbf8-d9cb01d71af7"
      },
      "execution_count": null,
      "outputs": [
        {
          "output_type": "execute_result",
          "data": {
            "text/plain": [
              "array(['Omuthiya hosts business breakfasts',\n",
              "       'The Omuthiya Town Council on Saturday launched its first ever business breakfast meetings aimed at bringing local business leaders and banks together to share strategies to help recover and boost Small and Medium Enteprises (SMEs) through loan acquisitions. This follows businesses being hard hit by the Covid-19 pandemic, which saw many forced to shut their […]',\n",
              "       'This follows businesses being hard hit by the Covid-19 pandemic, which saw many forced to shut their doors. Town spokesperson Ottilie Shingenge told The Namibian the purpose of the meeting was to share, network and brainstorm ideas for a more conducive business environment. “The meeting scope was tailor-made where local banks such a Bank Windhoek and Nedbank were offered opportunities to give presentations on their financial modalities that could assist local businesses through loans, transactions and overdrafts. “In addition, the town council also presented its mandate and challenges faced during the land acquisition/provision proces,” she said. Shingenge said the meeting also accorded the SMEs opportunities to access different business banking aspects, regardless of whether they are start-ups in the early stages or embarking on growth which can be customised and tailored according to their needs. “These include Bank Transact, which includes service fees which are analysed on the current fees to determine if it can be minimised for their businesses, competitive lending rates which are personalised to their businesses, and equipment and product solutions which are designed to meet a variety of needs that decrease fees and secure transactions,” she said.'],\n",
              "      dtype=object)"
            ]
          },
          "metadata": {},
          "execution_count": 157
        }
      ]
    },
    {
      "cell_type": "code",
      "source": [
        "df.dropna(inplace=True)"
      ],
      "metadata": {
        "colab": {
          "base_uri": "https://localhost:8080/"
        },
        "id": "y8019hVhUeOl",
        "outputId": "9874ee17-a023-4996-c6be-9ccdd4ad0f8b"
      },
      "execution_count": null,
      "outputs": [
        {
          "output_type": "stream",
          "name": "stderr",
          "text": [
            "<ipython-input-158-c64f9f573c18>:1: SettingWithCopyWarning: \n",
            "A value is trying to be set on a copy of a slice from a DataFrame\n",
            "\n",
            "See the caveats in the documentation: https://pandas.pydata.org/pandas-docs/stable/user_guide/indexing.html#returning-a-view-versus-a-copy\n",
            "  df.dropna(inplace=True)\n"
          ]
        }
      ]
    },
    {
      "cell_type": "code",
      "source": [
        "from vaderSentiment.vaderSentiment import SentimentIntensityAnalyzer"
      ],
      "metadata": {
        "id": "iCinJitRA7UM"
      },
      "execution_count": null,
      "outputs": []
    },
    {
      "cell_type": "code",
      "source": [
        "analyzer=SentimentIntensityAnalyzer()"
      ],
      "metadata": {
        "id": "MSaotnAbBAwT"
      },
      "execution_count": null,
      "outputs": []
    },
    {
      "cell_type": "code",
      "source": [
        "negative=[]\n",
        "positive=[]\n",
        "neutral=[]"
      ],
      "metadata": {
        "id": "_ldMTbWZBDCd"
      },
      "execution_count": null,
      "outputs": []
    },
    {
      "cell_type": "code",
      "source": [
        "df.shape[0]"
      ],
      "metadata": {
        "colab": {
          "base_uri": "https://localhost:8080/"
        },
        "id": "Qk_fR7lTULKX",
        "outputId": "1637342c-d30c-4b3c-b6a0-f4a9efe80425"
      },
      "execution_count": null,
      "outputs": [
        {
          "output_type": "execute_result",
          "data": {
            "text/plain": [
              "8"
            ]
          },
          "metadata": {},
          "execution_count": 77
        }
      ]
    },
    {
      "cell_type": "code",
      "source": [
        "cnt=0\n",
        "for i in range(df.shape[0]):\n",
        "    title=df.iloc[i,0]\n",
        "    description=df.iloc[i,1]\n",
        "    content = df.iloc[i,2]\n",
        "    title_analyzed=analyzer.polarity_scores(title)\n",
        "    description_analyzed=analyzer.polarity_scores(description)\n",
        "    content_analyzed=analyzer.polarity_scores(content)\n",
        "    negative.append((title_analyzed['neg']+description_analyzed['neg']+content_analyzed['neg'])/3)\n",
        "    positive.append((title_analyzed['pos']+description_analyzed['pos']+content_analyzed['pos'])/3)\n",
        "    neutral.append((title_analyzed['neu']+description_analyzed['neu']+content_analyzed['neu'])/3)\n",
        "#     print(title_analyzed)\n",
        "#     print(description_analyzed)\n",
        "    # cnt+=2"
      ],
      "metadata": {
        "id": "uRN2NxyDBRO2"
      },
      "execution_count": null,
      "outputs": []
    },
    {
      "cell_type": "code",
      "source": [
        "negative"
      ],
      "metadata": {
        "colab": {
          "base_uri": "https://localhost:8080/"
        },
        "id": "Jbi83XXjBVbH",
        "outputId": "c82e65ce-f636-4aaf-b240-49cda2535e05"
      },
      "execution_count": null,
      "outputs": [
        {
          "output_type": "execute_result",
          "data": {
            "text/plain": [
              "[0.030333333333333334,\n",
              " 0.011999999999999999,\n",
              " 0.144,\n",
              " 0.0,\n",
              " 0.014333333333333332,\n",
              " 0.021666666666666667,\n",
              " 0.007666666666666666,\n",
              " 0.07666666666666666,\n",
              " 0.09533333333333333,\n",
              " 0.016333333333333335,\n",
              " 0.030333333333333334,\n",
              " 0.011999999999999999,\n",
              " 0.144,\n",
              " 0.0,\n",
              " 0.014333333333333332,\n",
              " 0.021666666666666667,\n",
              " 0.007666666666666666,\n",
              " 0.07666666666666666,\n",
              " 0.09533333333333333,\n",
              " 0.016333333333333335]"
            ]
          },
          "metadata": {},
          "execution_count": 164
        }
      ]
    },
    {
      "cell_type": "code",
      "source": [
        "positive"
      ],
      "metadata": {
        "colab": {
          "base_uri": "https://localhost:8080/"
        },
        "id": "8kj2p0w8BbI3",
        "outputId": "bc83ba56-25aa-4655-cdaf-79184ba4bcef"
      },
      "execution_count": null,
      "outputs": [
        {
          "output_type": "execute_result",
          "data": {
            "text/plain": [
              "[0.07566666666666666,\n",
              " 0.05566666666666667,\n",
              " 0.012333333333333333,\n",
              " 0.09966666666666667,\n",
              " 0.20466666666666666,\n",
              " 0.13999999999999999,\n",
              " 0.011666666666666667,\n",
              " 0.12233333333333334,\n",
              " 0.011999999999999999,\n",
              " 0.17566666666666667,\n",
              " 0.07566666666666666,\n",
              " 0.05566666666666667,\n",
              " 0.012333333333333333,\n",
              " 0.09966666666666667,\n",
              " 0.20466666666666666,\n",
              " 0.13999999999999999,\n",
              " 0.011666666666666667,\n",
              " 0.12233333333333334,\n",
              " 0.011999999999999999,\n",
              " 0.17566666666666667]"
            ]
          },
          "metadata": {},
          "execution_count": 165
        }
      ]
    },
    {
      "cell_type": "code",
      "source": [
        "neutral"
      ],
      "metadata": {
        "colab": {
          "base_uri": "https://localhost:8080/"
        },
        "id": "Vir68MLRBb1I",
        "outputId": "8679b962-9e50-4be0-e432-f441f52c8058"
      },
      "execution_count": null,
      "outputs": [
        {
          "output_type": "execute_result",
          "data": {
            "text/plain": [
              "[0.8936666666666667,\n",
              " 0.9323333333333333,\n",
              " 0.8436666666666667,\n",
              " 0.9003333333333333,\n",
              " 0.781,\n",
              " 0.8386666666666667,\n",
              " 0.9806666666666667,\n",
              " 0.801,\n",
              " 0.8930000000000001,\n",
              " 0.8083333333333332,\n",
              " 0.8936666666666667,\n",
              " 0.9323333333333333,\n",
              " 0.8436666666666667,\n",
              " 0.9003333333333333,\n",
              " 0.781,\n",
              " 0.8386666666666667,\n",
              " 0.9806666666666667,\n",
              " 0.801,\n",
              " 0.8930000000000001,\n",
              " 0.8083333333333332]"
            ]
          },
          "metadata": {},
          "execution_count": 166
        }
      ]
    },
    {
      "cell_type": "code",
      "source": [
        "name=\"Kapil Soni\"\n",
        "name=name.split()"
      ],
      "metadata": {
        "id": "0GWXdD8aBkzW"
      },
      "execution_count": null,
      "outputs": []
    },
    {
      "cell_type": "code",
      "source": [
        "name"
      ],
      "metadata": {
        "colab": {
          "base_uri": "https://localhost:8080/"
        },
        "id": "BUwRv9FlBprl",
        "outputId": "724f1ecd-5627-4a44-9013-a4797f36af20"
      },
      "execution_count": null,
      "outputs": [
        {
          "output_type": "execute_result",
          "data": {
            "text/plain": [
              "['Kapil', 'Soni']"
            ]
          },
          "metadata": {},
          "execution_count": 168
        }
      ]
    },
    {
      "cell_type": "code",
      "source": [
        "name=\"%20\".join(name)"
      ],
      "metadata": {
        "id": "oyDr7dI0Bp0l"
      },
      "execution_count": null,
      "outputs": []
    },
    {
      "cell_type": "code",
      "source": [
        "name"
      ],
      "metadata": {
        "colab": {
          "base_uri": "https://localhost:8080/",
          "height": 35
        },
        "id": "oxxLFA6XBw3R",
        "outputId": "fa20c5d0-9aa9-45ec-a91e-a7423e5f1f4f"
      },
      "execution_count": null,
      "outputs": [
        {
          "output_type": "execute_result",
          "data": {
            "text/plain": [
              "'Kapil%20Soni'"
            ],
            "application/vnd.google.colaboratory.intrinsic+json": {
              "type": "string"
            }
          },
          "metadata": {},
          "execution_count": 170
        }
      ]
    },
    {
      "cell_type": "code",
      "source": [
        "name=\"Yogi Adityanath\"\n",
        "name=name.split()\n",
        "name=\"%20\".join(name)\n",
        "name=\"&q=\"+name\n",
        "url=\"https://newsdata.io/api/1/news?apikey=pub_191729a7504a7dfeda92f5d160ab32d8bc375&language=en\"\n",
        "url=url+name"
      ],
      "metadata": {
        "id": "ZF9jv9NoByT6"
      },
      "execution_count": null,
      "outputs": []
    },
    {
      "cell_type": "code",
      "source": [
        "url"
      ],
      "metadata": {
        "colab": {
          "base_uri": "https://localhost:8080/",
          "height": 35
        },
        "id": "mWtTsn0uCBVX",
        "outputId": "023c14e3-1d12-4e6f-fb6e-4c6cff725605"
      },
      "execution_count": null,
      "outputs": [
        {
          "output_type": "execute_result",
          "data": {
            "text/plain": [
              "'https://newsdata.io/api/1/news?apikey=pub_191729a7504a7dfeda92f5d160ab32d8bc375&language=en&q=Yogi%20Adityanath'"
            ],
            "application/vnd.google.colaboratory.intrinsic+json": {
              "type": "string"
            }
          },
          "metadata": {},
          "execution_count": 172
        }
      ]
    },
    {
      "cell_type": "code",
      "source": [
        "res=requests.get(url)"
      ],
      "metadata": {
        "id": "tm25Ebj4CFbE"
      },
      "execution_count": null,
      "outputs": []
    },
    {
      "cell_type": "code",
      "source": [
        "res"
      ],
      "metadata": {
        "colab": {
          "base_uri": "https://localhost:8080/"
        },
        "id": "Bj0FdLCzCTmd",
        "outputId": "ec988302-296d-47fc-aa97-99cf8490c666"
      },
      "execution_count": null,
      "outputs": [
        {
          "output_type": "execute_result",
          "data": {
            "text/plain": [
              "<Response [200]>"
            ]
          },
          "metadata": {},
          "execution_count": 174
        }
      ]
    },
    {
      "cell_type": "code",
      "source": [
        "xd=pd.DataFrame(res.json()['results'])"
      ],
      "metadata": {
        "id": "Umy6KuLbDH4s"
      },
      "execution_count": null,
      "outputs": []
    },
    {
      "cell_type": "code",
      "source": [
        "xd.shape[0]"
      ],
      "metadata": {
        "colab": {
          "base_uri": "https://localhost:8080/"
        },
        "id": "SV9WOhrbDKBH",
        "outputId": "c9764b80-5015-4a64-f028-2da57e95c840"
      },
      "execution_count": null,
      "outputs": [
        {
          "output_type": "execute_result",
          "data": {
            "text/plain": [
              "10"
            ]
          },
          "metadata": {},
          "execution_count": 176
        }
      ]
    },
    {
      "cell_type": "code",
      "source": [],
      "metadata": {
        "id": "HOgfkvfftnGY"
      },
      "execution_count": null,
      "outputs": []
    },
    {
      "cell_type": "code",
      "source": [
        "xd = xd[['title', 'description', 'content']]"
      ],
      "metadata": {
        "id": "XmnYmbwSSfB1"
      },
      "execution_count": null,
      "outputs": []
    },
    {
      "cell_type": "code",
      "source": [
        "xd"
      ],
      "metadata": {
        "colab": {
          "base_uri": "https://localhost:8080/",
          "height": 363
        },
        "id": "fcc47pcwZRHz",
        "outputId": "4617e6b5-7ebe-4b66-c1f4-3cd020a91498"
      },
      "execution_count": null,
      "outputs": [
        {
          "output_type": "execute_result",
          "data": {
            "text/plain": [
              "                                               title  \\\n",
              "0  Watch: UP CM Yogi Adityanath speaks in Kannada...   \n",
              "1  Plea filed in Patna HC challenging amendment o...   \n",
              "2  Congress and JDS create division, not developm...   \n",
              "3  ‘Mamata’s police brutally killed a young man’:...   \n",
              "4  Gauhati HC refuses interim relief to Youth Con...   \n",
              "5  Karnataka Elections:'Religion-based quota will...   \n",
              "6  India witnessing massive growth in economy, ch...   \n",
              "7  CBI opposes bail plea of Manish Sisodia, says ...   \n",
              "8               UP CM holds mega Road Show in Mandya   \n",
              "9  Indian arrested in UK for funding Hezbollah, d...   \n",
              "\n",
              "                                         description  \\\n",
              "0  Yogi Adityanath said in Karnataka that reserva...   \n",
              "1  Plea filed in Patna HC by advocate Alka Verma ...   \n",
              "2  Mandya/Vijaypura: Uttar Pradesh Chief Minister...   \n",
              "3  Taking to Twitter Suvendu Adhikari wrote, \"Mam...   \n",
              "4  Before the petitioner's interim request was ta...   \n",
              "5  Uttar Pradesh CM Yogi Adityanath slammed Congr...   \n",
              "6  PM Modi said, \"If everyone puts his efforts in...   \n",
              "7  CBI said that Manish Sisodia \"misused\" his off...   \n",
              "8  Mandya: The sugar bowl of Mandya turned saffro...   \n",
              "9  An Indian national, Sundar Nagarajan, was arre...   \n",
              "\n",
              "                                             content  \n",
              "0  On Wednesday, Yogi Adityanath, the chief minis...  \n",
              "1  OpIndia bringing the \\'right\\' side of India O...  \n",
              "2  Mandya/Vijaypura: Uttar Pradesh Chief Minister...  \n",
              "3  OpIndia bringing the \\'right\\' side of India O...  \n",
              "4  OpIndia bringing the \\'right\\' side of India O...  \n",
              "5                                               None  \n",
              "6  OpIndia bringing the \\'right\\' side of India O...  \n",
              "7  OpIndia bringing the \\'right\\' side of India O...  \n",
              "8  Mandya: The sugar bowl of Mandya turned saffro...  \n",
              "9  An Indian national, Sundar Nagarajan, was arre...  "
            ],
            "text/html": [
              "\n",
              "  <div id=\"df-4d712138-3df3-45cd-bd12-9e92d69ff30d\">\n",
              "    <div class=\"colab-df-container\">\n",
              "      <div>\n",
              "<style scoped>\n",
              "    .dataframe tbody tr th:only-of-type {\n",
              "        vertical-align: middle;\n",
              "    }\n",
              "\n",
              "    .dataframe tbody tr th {\n",
              "        vertical-align: top;\n",
              "    }\n",
              "\n",
              "    .dataframe thead th {\n",
              "        text-align: right;\n",
              "    }\n",
              "</style>\n",
              "<table border=\"1\" class=\"dataframe\">\n",
              "  <thead>\n",
              "    <tr style=\"text-align: right;\">\n",
              "      <th></th>\n",
              "      <th>title</th>\n",
              "      <th>description</th>\n",
              "      <th>content</th>\n",
              "    </tr>\n",
              "  </thead>\n",
              "  <tbody>\n",
              "    <tr>\n",
              "      <th>0</th>\n",
              "      <td>Watch: UP CM Yogi Adityanath speaks in Kannada...</td>\n",
              "      <td>Yogi Adityanath said in Karnataka that reserva...</td>\n",
              "      <td>On Wednesday, Yogi Adityanath, the chief minis...</td>\n",
              "    </tr>\n",
              "    <tr>\n",
              "      <th>1</th>\n",
              "      <td>Plea filed in Patna HC challenging amendment o...</td>\n",
              "      <td>Plea filed in Patna HC by advocate Alka Verma ...</td>\n",
              "      <td>OpIndia bringing the \\'right\\' side of India O...</td>\n",
              "    </tr>\n",
              "    <tr>\n",
              "      <th>2</th>\n",
              "      <td>Congress and JDS create division, not developm...</td>\n",
              "      <td>Mandya/Vijaypura: Uttar Pradesh Chief Minister...</td>\n",
              "      <td>Mandya/Vijaypura: Uttar Pradesh Chief Minister...</td>\n",
              "    </tr>\n",
              "    <tr>\n",
              "      <th>3</th>\n",
              "      <td>‘Mamata’s police brutally killed a young man’:...</td>\n",
              "      <td>Taking to Twitter Suvendu Adhikari wrote, \"Mam...</td>\n",
              "      <td>OpIndia bringing the \\'right\\' side of India O...</td>\n",
              "    </tr>\n",
              "    <tr>\n",
              "      <th>4</th>\n",
              "      <td>Gauhati HC refuses interim relief to Youth Con...</td>\n",
              "      <td>Before the petitioner's interim request was ta...</td>\n",
              "      <td>OpIndia bringing the \\'right\\' side of India O...</td>\n",
              "    </tr>\n",
              "    <tr>\n",
              "      <th>5</th>\n",
              "      <td>Karnataka Elections:'Religion-based quota will...</td>\n",
              "      <td>Uttar Pradesh CM Yogi Adityanath slammed Congr...</td>\n",
              "      <td>None</td>\n",
              "    </tr>\n",
              "    <tr>\n",
              "      <th>6</th>\n",
              "      <td>India witnessing massive growth in economy, ch...</td>\n",
              "      <td>PM Modi said, \"If everyone puts his efforts in...</td>\n",
              "      <td>OpIndia bringing the \\'right\\' side of India O...</td>\n",
              "    </tr>\n",
              "    <tr>\n",
              "      <th>7</th>\n",
              "      <td>CBI opposes bail plea of Manish Sisodia, says ...</td>\n",
              "      <td>CBI said that Manish Sisodia \"misused\" his off...</td>\n",
              "      <td>OpIndia bringing the \\'right\\' side of India O...</td>\n",
              "    </tr>\n",
              "    <tr>\n",
              "      <th>8</th>\n",
              "      <td>UP CM holds mega Road Show in Mandya</td>\n",
              "      <td>Mandya: The sugar bowl of Mandya turned saffro...</td>\n",
              "      <td>Mandya: The sugar bowl of Mandya turned saffro...</td>\n",
              "    </tr>\n",
              "    <tr>\n",
              "      <th>9</th>\n",
              "      <td>Indian arrested in UK for funding Hezbollah, d...</td>\n",
              "      <td>An Indian national, Sundar Nagarajan, was arre...</td>\n",
              "      <td>An Indian national, Sundar Nagarajan, was arre...</td>\n",
              "    </tr>\n",
              "  </tbody>\n",
              "</table>\n",
              "</div>\n",
              "      <button class=\"colab-df-convert\" onclick=\"convertToInteractive('df-4d712138-3df3-45cd-bd12-9e92d69ff30d')\"\n",
              "              title=\"Convert this dataframe to an interactive table.\"\n",
              "              style=\"display:none;\">\n",
              "        \n",
              "  <svg xmlns=\"http://www.w3.org/2000/svg\" height=\"24px\"viewBox=\"0 0 24 24\"\n",
              "       width=\"24px\">\n",
              "    <path d=\"M0 0h24v24H0V0z\" fill=\"none\"/>\n",
              "    <path d=\"M18.56 5.44l.94 2.06.94-2.06 2.06-.94-2.06-.94-.94-2.06-.94 2.06-2.06.94zm-11 1L8.5 8.5l.94-2.06 2.06-.94-2.06-.94L8.5 2.5l-.94 2.06-2.06.94zm10 10l.94 2.06.94-2.06 2.06-.94-2.06-.94-.94-2.06-.94 2.06-2.06.94z\"/><path d=\"M17.41 7.96l-1.37-1.37c-.4-.4-.92-.59-1.43-.59-.52 0-1.04.2-1.43.59L10.3 9.45l-7.72 7.72c-.78.78-.78 2.05 0 2.83L4 21.41c.39.39.9.59 1.41.59.51 0 1.02-.2 1.41-.59l7.78-7.78 2.81-2.81c.8-.78.8-2.07 0-2.86zM5.41 20L4 18.59l7.72-7.72 1.47 1.35L5.41 20z\"/>\n",
              "  </svg>\n",
              "      </button>\n",
              "      \n",
              "  <style>\n",
              "    .colab-df-container {\n",
              "      display:flex;\n",
              "      flex-wrap:wrap;\n",
              "      gap: 12px;\n",
              "    }\n",
              "\n",
              "    .colab-df-convert {\n",
              "      background-color: #E8F0FE;\n",
              "      border: none;\n",
              "      border-radius: 50%;\n",
              "      cursor: pointer;\n",
              "      display: none;\n",
              "      fill: #1967D2;\n",
              "      height: 32px;\n",
              "      padding: 0 0 0 0;\n",
              "      width: 32px;\n",
              "    }\n",
              "\n",
              "    .colab-df-convert:hover {\n",
              "      background-color: #E2EBFA;\n",
              "      box-shadow: 0px 1px 2px rgba(60, 64, 67, 0.3), 0px 1px 3px 1px rgba(60, 64, 67, 0.15);\n",
              "      fill: #174EA6;\n",
              "    }\n",
              "\n",
              "    [theme=dark] .colab-df-convert {\n",
              "      background-color: #3B4455;\n",
              "      fill: #D2E3FC;\n",
              "    }\n",
              "\n",
              "    [theme=dark] .colab-df-convert:hover {\n",
              "      background-color: #434B5C;\n",
              "      box-shadow: 0px 1px 3px 1px rgba(0, 0, 0, 0.15);\n",
              "      filter: drop-shadow(0px 1px 2px rgba(0, 0, 0, 0.3));\n",
              "      fill: #FFFFFF;\n",
              "    }\n",
              "  </style>\n",
              "\n",
              "      <script>\n",
              "        const buttonEl =\n",
              "          document.querySelector('#df-4d712138-3df3-45cd-bd12-9e92d69ff30d button.colab-df-convert');\n",
              "        buttonEl.style.display =\n",
              "          google.colab.kernel.accessAllowed ? 'block' : 'none';\n",
              "\n",
              "        async function convertToInteractive(key) {\n",
              "          const element = document.querySelector('#df-4d712138-3df3-45cd-bd12-9e92d69ff30d');\n",
              "          const dataTable =\n",
              "            await google.colab.kernel.invokeFunction('convertToInteractive',\n",
              "                                                     [key], {});\n",
              "          if (!dataTable) return;\n",
              "\n",
              "          const docLinkHtml = 'Like what you see? Visit the ' +\n",
              "            '<a target=\"_blank\" href=https://colab.research.google.com/notebooks/data_table.ipynb>data table notebook</a>'\n",
              "            + ' to learn more about interactive tables.';\n",
              "          element.innerHTML = '';\n",
              "          dataTable['output_type'] = 'display_data';\n",
              "          await google.colab.output.renderOutput(dataTable, element);\n",
              "          const docLink = document.createElement('div');\n",
              "          docLink.innerHTML = docLinkHtml;\n",
              "          element.appendChild(docLink);\n",
              "        }\n",
              "      </script>\n",
              "    </div>\n",
              "  </div>\n",
              "  "
            ]
          },
          "metadata": {},
          "execution_count": 181
        }
      ]
    },
    {
      "cell_type": "code",
      "source": [
        "xd.dropna(inplace=True)"
      ],
      "metadata": {
        "colab": {
          "base_uri": "https://localhost:8080/"
        },
        "id": "pFBHAv5oZWNF",
        "outputId": "c19717ca-30f9-466c-cd2e-64d2c6368285"
      },
      "execution_count": null,
      "outputs": [
        {
          "output_type": "stream",
          "name": "stderr",
          "text": [
            "<ipython-input-187-1b54e7b0814f>:1: SettingWithCopyWarning: \n",
            "A value is trying to be set on a copy of a slice from a DataFrame\n",
            "\n",
            "See the caveats in the documentation: https://pandas.pydata.org/pandas-docs/stable/user_guide/indexing.html#returning-a-view-versus-a-copy\n",
            "  xd.dropna(inplace=True)\n"
          ]
        }
      ]
    },
    {
      "cell_type": "code",
      "source": [
        "positive = []\n",
        "negative = []\n",
        "neutral =[]"
      ],
      "metadata": {
        "id": "KglYQB24U-my"
      },
      "execution_count": null,
      "outputs": []
    },
    {
      "cell_type": "code",
      "source": [
        "for i in range(xd.shape[0]):\n",
        "    title=xd.iloc[i,0]\n",
        "    description=xd.iloc[i,1]\n",
        "    content = xd.iloc[i,2]\n",
        "    title_analyzed=analyzer.polarity_scores(title)\n",
        "    description_analyzed=analyzer.polarity_scores(description)\n",
        "    content_analyzed=analyzer.polarity_scores(content)\n",
        "    negative.append((title_analyzed['neg']+description_analyzed['neg']+content_analyzed['neg'])/3)\n",
        "    positive.append((title_analyzed['pos']+description_analyzed['pos']+content_analyzed['pos'])/3)\n",
        "    neutral.append((title_analyzed['neu']+description_analyzed['neu']+content_analyzed['neu'])/3)"
      ],
      "metadata": {
        "id": "BG27qu8vU24d"
      },
      "execution_count": null,
      "outputs": []
    },
    {
      "cell_type": "code",
      "source": [
        "neg_per=sum(negative)* 10"
      ],
      "metadata": {
        "id": "7NAjpISYDMUL"
      },
      "execution_count": null,
      "outputs": []
    },
    {
      "cell_type": "code",
      "source": [
        "neg_per "
      ],
      "metadata": {
        "colab": {
          "base_uri": "https://localhost:8080/"
        },
        "id": "1mZGBovJDPN7",
        "outputId": "24dcf54c-b1b3-4ece-f929-15043cd0d1d2"
      },
      "execution_count": null,
      "outputs": [
        {
          "output_type": "execute_result",
          "data": {
            "text/plain": [
              "15.950000000000003"
            ]
          },
          "metadata": {},
          "execution_count": 190
        }
      ]
    },
    {
      "cell_type": "code",
      "source": [
        "pos_per=sum(positive)* 10"
      ],
      "metadata": {
        "id": "jrked0CbDRh4"
      },
      "execution_count": null,
      "outputs": []
    },
    {
      "cell_type": "code",
      "source": [
        "pos_per"
      ],
      "metadata": {
        "colab": {
          "base_uri": "https://localhost:8080/"
        },
        "id": "0_PFDXzLDTqB",
        "outputId": "91b22d96-a8bd-4b53-fd8b-b46491065367"
      },
      "execution_count": null,
      "outputs": [
        {
          "output_type": "execute_result",
          "data": {
            "text/plain": [
              "9.46"
            ]
          },
          "metadata": {},
          "execution_count": 192
        }
      ]
    },
    {
      "cell_type": "code",
      "source": [
        "new_per=sum(neutral)* 10"
      ],
      "metadata": {
        "id": "_v_hwF_iDU6A"
      },
      "execution_count": null,
      "outputs": []
    },
    {
      "cell_type": "code",
      "source": [
        "new_per"
      ],
      "metadata": {
        "colab": {
          "base_uri": "https://localhost:8080/"
        },
        "id": "XDu6ue_GDZTy",
        "outputId": "5b69dd22-28e3-4ed3-930e-26816e591d81"
      },
      "execution_count": null,
      "outputs": [
        {
          "output_type": "execute_result",
          "data": {
            "text/plain": [
              "114.58333333333336"
            ]
          },
          "metadata": {},
          "execution_count": 194
        }
      ]
    }
  ]
}